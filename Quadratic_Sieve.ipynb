{
 "cells": [
  {
   "cell_type": "code",
   "execution_count": 182,
   "id": "1eb66416",
   "metadata": {},
   "outputs": [],
   "source": [
    "import sympy as sp\n",
    "import numpy as np\n",
    "from scipy.linalg import null_space\n",
    "import sklearn as sl\n",
    "import math"
   ]
  },
  {
   "cell_type": "code",
   "execution_count": 130,
   "id": "19965b5b",
   "metadata": {},
   "outputs": [],
   "source": [
    "N = 227179\n",
    "B = 50\n",
    "#B = math.ceil(math.e**(.5*(math.log(N)*math.log(math.log(N)))**.5))\n",
    "#print(B)"
   ]
  },
  {
   "cell_type": "code",
   "execution_count": 131,
   "id": "5d098491",
   "metadata": {},
   "outputs": [
    {
     "name": "stdout",
     "output_type": "stream",
     "text": [
      "[2, 3, 5, 7, 13, 17, 23, 29, 37, 41, 43, 47]\n"
     ]
    }
   ],
   "source": [
    "# creates the factor base of N up to B\n",
    "\n",
    "def eulersCriterion(n, p):\n",
    "    n = n % p\n",
    "\n",
    "    for x in range(2, p, 1):\n",
    "        if ((x * x) % p == n):\n",
    "            return True\n",
    "    return False\n",
    "\n",
    "def factorBase(n, b):\n",
    "\n",
    "    prime = [True for i in range(n+1)] \n",
    "\n",
    "    p = 2\n",
    "    while(p * p <= n):\n",
    "        if (prime[p] == True):\n",
    "            \n",
    "            for i in range(p * p, n + 1, p):\n",
    "                prime[i] = False\n",
    "        p += 1\n",
    "    \n",
    "    c = []\n",
    "    for p in range(2, b):\n",
    "\n",
    "        if prime[p] and eulersCriterion(n, p):\n",
    "            c.append(p)\n",
    "            \n",
    "    if 2 not in c: c.insert(0, 2)\n",
    "    return c\n",
    "\n",
    "print(factorBase(N, B))"
   ]
  },
  {
   "cell_type": "code",
   "execution_count": 199,
   "id": "9f550789",
   "metadata": {
    "scrolled": false
   },
   "outputs": [
    {
     "name": "stdout",
     "output_type": "stream",
     "text": [
      "[350, 1305, 2262, 3221, 4182, 5145, 6110, 7077, 8046, 9017, 9990, 10965, 11942, 12921, 13902, 14885, 15870, 16857, 17846, 18837]\n",
      "[1.0, 1.0, 1.0, 3221, 1.0, 1.0, 1.0, 337.0, 149.0, 9017, 1.0, 1.0, 853.0, 4307.0, 331.0, 229.0, 1.0, 1873.0, 8923.0, 1.0]\n",
      "[[1 0 2 1 0 0 0 0 0 0 0 0]\n",
      " [0 2 1 0 0 0 0 1 0 0 0 0]\n",
      " [1 1 0 0 1 0 0 1 0 0 0 0]\n",
      " [1 1 0 0 0 1 0 0 0 1 0 0]\n",
      " [0 1 1 3 0 0 0 0 0 0 0 0]\n",
      " [1 0 1 0 1 0 0 0 0 0 0 1]\n",
      " [1 3 1 0 0 0 0 0 1 0 0 0]\n",
      " [0 1 1 0 0 1 0 0 0 0 1 0]\n",
      " [1 1 1 0 0 0 2 0 0 0 0 0]\n",
      " [0 2 0 1 1 0 1 0 0 0 0 0]]\n",
      "[[1 0 1 1 0 1 1 0 1 0]\n",
      " [0 2 1 1 1 0 3 1 1 2]\n",
      " [2 1 0 0 1 1 1 1 1 0]\n",
      " [1 0 0 0 3 0 0 0 0 1]\n",
      " [0 0 1 0 0 1 0 0 0 1]\n",
      " [0 0 0 1 0 0 0 1 0 0]\n",
      " [0 0 0 0 0 0 0 0 2 1]\n",
      " [0 1 1 0 0 0 0 0 0 0]\n",
      " [0 0 0 0 0 0 1 0 0 0]\n",
      " [0 0 0 1 0 0 0 0 0 0]\n",
      " [0 0 0 0 0 0 0 1 0 0]\n",
      " [0 0 0 0 0 1 0 0 0 0]]\n",
      "[]\n"
     ]
    }
   ],
   "source": [
    "#find smooth numbers using Tonelli–Shanks algorithm and create matrix with rows as smooth numbers\n",
    "\n",
    "#these variables are subject to optimization\n",
    "maxSeq = 20 #size of number sequence collected using x^2 - N\n",
    "maxPow = 3 #max power of the factor base primes\n",
    "x = math.ceil(N**.5)\n",
    "fb = factorBase(N, B)\n",
    "\n",
    "#number sequence\n",
    "a = []\n",
    "for i in range(maxSeq):\n",
    "    a.append((x + i)**2 - N)\n",
    "print(a)\n",
    "\n",
    "#exponent matrix (mat[row][col])\n",
    "rows = len(a)\n",
    "cols = len(fb)\n",
    "mat = [[0 for _ in range(cols)] for _ in range(rows)]\n",
    "#print(mat)\n",
    "\n",
    "#initial matrix\n",
    "for i in range(1, maxPow + 1): #power of factor base prime\n",
    "    for p in range(len(fb)): #prime\n",
    "        #print(nSolve(p**i), p**i)\n",
    "        \n",
    "        for j in nSolve(fb[p]**i): #starting sequence number\n",
    "            for k in range(j, maxSeq, fb[p]**i): #sequence number\n",
    "                a[k] = a[k] / fb[p]\n",
    "                if k < rows and p < cols: \n",
    "                    mat[k][p] = mat[k][p] + 1\n",
    "                    #mat[k][p] = 0 if mat[k][p] % 2 == 0 else 1\n",
    "        #print(a)\n",
    "print(a)\n",
    "#print(mat)\n",
    "\n",
    "\n",
    "\n",
    "smoothM = [] #smooth number exp matrix\n",
    "for i in range(len(a)):\n",
    "    if a[i] == 1: smoothM.append(mat[i])      \n",
    "\n",
    "smoothM = np.array(smoothM)\n",
    "smoothMt = smoothM.transpose()\n",
    "ns = null_space(smoothMt)\n",
    "print(smoothM)\n",
    "print(smoothMt)\n",
    "print(ns)\n",
    "\n",
    "#smoothM = Matrix(smoothM)\n",
    "#print(smoothM)\n",
    "\n",
    "#Need to figure out the nullspace\n",
    "#print(smoothM.nullspace())\n",
    "#smoothMt = smoothM.transpose()\n",
    "#print(smoothMt)\n",
    "#print(smoothMt.nullspace())\n",
    "#smoothMt = smoothMt.nullspace()\n",
    "\n",
    "#print(smoothMt)\n",
    "#print(smoothM.transpose())\n",
    "#print(smoothM.nullspace())\n",
    "\n"
   ]
  },
  {
   "cell_type": "code",
   "execution_count": 161,
   "id": "cffe9cd6",
   "metadata": {},
   "outputs": [],
   "source": [
    "#solve for n in (x + n)^2 - N = 0(mod p)\n",
    "def nSolve(p):\n",
    "    r = []\n",
    "    for i in range(p):\n",
    "        if ((x + i)**2 - N) % p == 0:\n",
    "            r.append(i)\n",
    "    return r"
   ]
  },
  {
   "cell_type": "code",
   "execution_count": 167,
   "id": "d4d66f80",
   "metadata": {},
   "outputs": [],
   "source": [
    "#check linear independence (use sympy)\n",
    "def dependent():\n",
    "    return True"
   ]
  },
  {
   "cell_type": "code",
   "execution_count": 100,
   "id": "16521c1e",
   "metadata": {},
   "outputs": [],
   "source": [
    "#find null space of matrix (use sympy)\n",
    "def nullSpace():\n",
    "    return ns\n"
   ]
  }
 ],
 "metadata": {
  "kernelspec": {
   "display_name": "Python 3 (ipykernel)",
   "language": "python",
   "name": "python3"
  },
  "language_info": {
   "codemirror_mode": {
    "name": "ipython",
    "version": 3
   },
   "file_extension": ".py",
   "mimetype": "text/x-python",
   "name": "python",
   "nbconvert_exporter": "python",
   "pygments_lexer": "ipython3",
   "version": "3.11.1"
  }
 },
 "nbformat": 4,
 "nbformat_minor": 5
}
