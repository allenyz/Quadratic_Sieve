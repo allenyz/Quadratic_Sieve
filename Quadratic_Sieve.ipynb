{
 "cells": [
  {
   "cell_type": "code",
   "execution_count": 1,
   "id": "1eb66416",
   "metadata": {},
   "outputs": [],
   "source": [
    "import sympy as sp\n",
    "import numpy as np\n",
    "from scipy.linalg import null_space\n",
    "import sklearn as sl\n",
    "import math"
   ]
  },
  {
   "cell_type": "code",
   "execution_count": 2,
   "id": "19965b5b",
   "metadata": {
    "scrolled": true
   },
   "outputs": [],
   "source": [
    "N = 227179\n",
    "B = 50\n",
    "\n",
    "#B = math.ceil(math.e**(.5*(math.log(N)*math.log(math.log(N)))**.5))\n",
    "#print(B)"
   ]
  },
  {
   "cell_type": "code",
   "execution_count": 3,
   "id": "bf9d2118",
   "metadata": {},
   "outputs": [],
   "source": [
    "#solve for n in (sqrt(N) + n)^2 - N = 0(mod p)\n",
    "\n",
    "def nSolve(n, p):\n",
    "    root = math.ceil(n**.5)\n",
    "    r = []\n",
    "    for i in range(p):\n",
    "        if ((root + i)**2 - N) % p == 0:\n",
    "            r.append(i)\n",
    "    return r"
   ]
  },
  {
   "cell_type": "code",
   "execution_count": 4,
   "id": "5d098491",
   "metadata": {},
   "outputs": [
    {
     "name": "stdout",
     "output_type": "stream",
     "text": [
      "[2, 3, 5, 7, 13, 17, 23, 29, 37, 41, 43, 47]\n"
     ]
    }
   ],
   "source": [
    "#creates the factor base of N up to B\n",
    "\n",
    "def eulersCriterion(n, p):\n",
    "    n = n % p\n",
    "    for i in range(2, p, 1):\n",
    "        if ((i * i) % p == n):\n",
    "            return True\n",
    "    return False\n",
    "\n",
    "def factorBase(n, b):\n",
    "\n",
    "    prime = [True for i in range(n+1)] \n",
    "\n",
    "    p = 2\n",
    "    while(p * p <= n):\n",
    "        if (prime[p] == True):\n",
    "            \n",
    "            for i in range(p * p, n + 1, p):\n",
    "                prime[i] = False\n",
    "        p += 1\n",
    "    \n",
    "    c = []\n",
    "    for p in range(2, b):\n",
    "\n",
    "        if prime[p] and eulersCriterion(n, p):\n",
    "            c.append(p)\n",
    "            \n",
    "    if 2 not in c: c.insert(0, 2)\n",
    "    return c\n",
    "\n",
    "print(factorBase(N, B))"
   ]
  },
  {
   "cell_type": "code",
   "execution_count": 5,
   "id": "c375f6e7",
   "metadata": {
    "scrolled": false
   },
   "outputs": [
    {
     "data": {
      "text/plain": [
       "[array([ 0,  1,  2,  4,  5,  6, 10, 11, 16, 19]),\n",
       " array([[1, 0, 2, 1, 0, 0, 0, 0, 0, 0, 0, 0],\n",
       "        [0, 2, 1, 0, 0, 0, 0, 1, 0, 0, 0, 0],\n",
       "        [1, 1, 0, 0, 1, 0, 0, 1, 0, 0, 0, 0],\n",
       "        [1, 1, 0, 0, 0, 1, 0, 0, 0, 1, 0, 0],\n",
       "        [0, 1, 1, 3, 0, 0, 0, 0, 0, 0, 0, 0],\n",
       "        [1, 0, 1, 0, 1, 0, 0, 0, 0, 0, 0, 1],\n",
       "        [1, 3, 1, 0, 0, 0, 0, 0, 1, 0, 0, 0],\n",
       "        [0, 1, 1, 0, 0, 1, 0, 0, 0, 0, 1, 0],\n",
       "        [1, 1, 1, 0, 0, 0, 2, 0, 0, 0, 0, 0],\n",
       "        [0, 2, 0, 1, 1, 0, 1, 0, 0, 0, 0, 0]]),\n",
       " array([[1, 0, 0, 1, 0, 0, 0, 0, 0, 0, 0, 0],\n",
       "        [0, 0, 1, 0, 0, 0, 0, 1, 0, 0, 0, 0],\n",
       "        [1, 1, 0, 0, 1, 0, 0, 1, 0, 0, 0, 0],\n",
       "        [1, 1, 0, 0, 0, 1, 0, 0, 0, 1, 0, 0],\n",
       "        [0, 1, 1, 1, 0, 0, 0, 0, 0, 0, 0, 0],\n",
       "        [1, 0, 1, 0, 1, 0, 0, 0, 0, 0, 0, 1],\n",
       "        [1, 1, 1, 0, 0, 0, 0, 0, 1, 0, 0, 0],\n",
       "        [0, 1, 1, 0, 0, 1, 0, 0, 0, 0, 1, 0],\n",
       "        [1, 1, 1, 0, 0, 0, 0, 0, 0, 0, 0, 0],\n",
       "        [0, 0, 0, 1, 1, 0, 1, 0, 0, 0, 0, 0]])]"
      ]
     },
     "execution_count": 5,
     "metadata": {},
     "output_type": "execute_result"
    }
   ],
   "source": [
    "#find smooth numbers using Tonelli–Shanks algorithm and returns matrix with rows as smooth numbers\n",
    "#INPUT: large integer n, bound b\n",
    "#OUPUT: smooth number sequence, matrix of exponentials of smooth numbers, reduced matrix\n",
    "\n",
    "#these variables are subject to optimization\n",
    "maxSeq = 20 #size of number sequence collected using x^2 - N\n",
    "maxPow = 3 #max power of the factor base primes\n",
    "\n",
    "def createMat(n, b):\n",
    "    \n",
    "    root = math.ceil(n**.5)\n",
    "    fb = factorBase(n, b)\n",
    "\n",
    "    #number sequence\n",
    "    a = []\n",
    "    for i in range(maxSeq):\n",
    "        a.append((root + i)**2 - n)\n",
    "    #print(a)\n",
    "\n",
    "    #exponent matrix (mat[row][col])\n",
    "    rows = len(a)\n",
    "    cols = len(fb)\n",
    "    reduced_mat = [[0 for _ in range(cols)] for _ in range(rows)]\n",
    "    raw_mat = [[0 for _ in range(cols)] for _ in range(rows)]\n",
    "    #print(mat)\n",
    "\n",
    "    #initial matrix\n",
    "    for i in range(1, maxPow + 1): #power of factor base prime\n",
    "        for p in range(len(fb)): #prime\n",
    "            #print(nSolve(p**i), p**i)\n",
    "\n",
    "            for j in nSolve(n, fb[p]**i): #starting sequence number\n",
    "                for k in range(j, maxSeq, fb[p]**i): #sequence number\n",
    "                    a[k] = a[k] / fb[p]\n",
    "                    if k < rows and p < cols: \n",
    "                        reduced_mat[k][p] = (reduced_mat[k][p] - 1)*-1\n",
    "                        raw_mat[k][p] = raw_mat[k][p] + 1\n",
    "            #print(a)\n",
    "            \n",
    "    #print(a)\n",
    "    #print(reduced_mat)\n",
    "    #print(raw_mat)\n",
    "    \n",
    "    smoothRoots = [] #smooth number roots\n",
    "    for i in range(len(a)):\n",
    "        if a[i] == 1: smoothRoots.append(i) \n",
    "    \n",
    "    rawM = [] #smooth number exp matrix (raw)\n",
    "    for i in range(len(a)):\n",
    "        if a[i] == 1: rawM.append(raw_mat[i]) \n",
    "\n",
    "    redM = [] #smooth number exp matrix (reduced)\n",
    "    for i in range(len(a)):\n",
    "        if a[i] == 1: redM.append(reduced_mat[i])      \n",
    "    \n",
    "    smoothRoots = np.array(smoothRoots)\n",
    "    rawM = np.array(rawM)\n",
    "    redM = np.array(redM)\n",
    "    #print(smoothRoots)\n",
    "    #print(rawM)\n",
    "    #print(redM)\n",
    "    #print(redM.shape)\n",
    "    \n",
    "    return [smoothRoots, rawM, redM]\n",
    "\n",
    "createMat(N, B)"
   ]
  },
  {
   "cell_type": "code",
   "execution_count": 6,
   "id": "d879ebe6",
   "metadata": {
    "scrolled": false
   },
   "outputs": [
    {
     "data": {
      "text/plain": [
       "[8, 0, 4]"
      ]
     },
     "execution_count": 6,
     "metadata": {},
     "output_type": "execute_result"
    }
   ],
   "source": [
    "#finds dependence relations of matrix\n",
    "#INPUT: smooth matrix\n",
    "#OUPUT: list with elements as indices of \n",
    "\n",
    "test = np.array([[1,1,0,0],[1,1,0,1],[0,1,1,1],[0,0,1,0],[0,0,0,1]])\n",
    "#print(test)\n",
    "\n",
    "def findDep(mat):\n",
    "    \n",
    "    '''A Fast Algorithm for\n",
    "        Gaussian Elimination over GF (2) and its Implementation on the\n",
    "        GAPP.' Journal of Parallel and Distributed Computing 13.1\n",
    "        (1991): 118-122.'''\n",
    "    \n",
    "    pRows = np.zeros(mat.shape[0])\n",
    "    for i in range(mat.shape[1]):\n",
    "        \n",
    "        if (sum(mat[:, i]) != 0):\n",
    "            \n",
    "            p = list(mat[:, i]).index(1)\n",
    "            pRows[p] = 1\n",
    "            \n",
    "            for j in range(mat.shape[1]):\n",
    "                \n",
    "                if (j == i):\n",
    "                    continue\n",
    "                    \n",
    "                if (mat[p][j] == 1):\n",
    "                    mat[:, j] = (mat[:, j] + mat[:, i]) % 2\n",
    "    #print(mat)\n",
    "    #print(pRows)\n",
    "    #print(list(pRows).index(0))\n",
    "    \n",
    "    #returns indices equaling 1 of the first nonpivot row of the matrix\n",
    "    nonP = list(pRows).index(0)\n",
    "    nonPInd = []\n",
    "    for r in range(mat.shape[1]):\n",
    "        if mat[nonP][r] == 1:\n",
    "            nonPInd.append(r)\n",
    "    #print(nonPInd)\n",
    "    \n",
    "    nullSpace = [nonP]\n",
    "    for s in range(mat.shape[0]):\n",
    "        if (sum(mat[s, :]) == 1) and (list(mat[s, :]).index(1) in nonPInd):\n",
    "            nullSpace.append(s)\n",
    "\n",
    "    \n",
    "    #print(nullSpace)\n",
    "    \n",
    "    return nullSpace\n",
    "\n",
    "findDep(createMat(N, B)[2])"
   ]
  },
  {
   "cell_type": "code",
   "execution_count": 7,
   "id": "33b06253",
   "metadata": {
    "scrolled": false
   },
   "outputs": [
    {
     "name": "stdout",
     "output_type": "stream",
     "text": [
      "1447 157\n"
     ]
    }
   ],
   "source": [
    "#MAIN\n",
    "\n",
    "x = 1\n",
    "y = 1\n",
    "root = math.ceil(N**.5)\n",
    "sol = findDep(createMat(N, B)[2])\n",
    "\n",
    "for i in sol:\n",
    "    x = x * (root + createMat(N, B)[0][i])\n",
    "\n",
    "x = x % N\n",
    "#print(x)\n",
    "\n",
    "expm = createMat(N, B)[1]\n",
    "primes = factorBase(N, B)\n",
    "#print(createMat(N, B)[1].shape[1])\n",
    "\n",
    "expSum = np.zeros(expm.shape[1])\n",
    "for i in sol:\n",
    "    expSum = expSum + expm[i]\n",
    "\n",
    "expSum = expSum / 2\n",
    "\n",
    "for i in range(len(primes)):\n",
    "    y = y * int(primes[i] ** expSum[i])\n",
    "\n",
    "#print(y)\n",
    "\n",
    "\n",
    "factor1 = math.gcd(x - y, N)\n",
    "factor2 = int(N / factor1)\n",
    "print(factor1, factor2)"
   ]
  },
  {
   "cell_type": "code",
   "execution_count": null,
   "id": "f1359b1d",
   "metadata": {},
   "outputs": [],
   "source": []
  }
 ],
 "metadata": {
  "kernelspec": {
   "display_name": "Python 3 (ipykernel)",
   "language": "python",
   "name": "python3"
  },
  "language_info": {
   "codemirror_mode": {
    "name": "ipython",
    "version": 3
   },
   "file_extension": ".py",
   "mimetype": "text/x-python",
   "name": "python",
   "nbconvert_exporter": "python",
   "pygments_lexer": "ipython3",
   "version": "3.11.1"
  }
 },
 "nbformat": 4,
 "nbformat_minor": 5
}
